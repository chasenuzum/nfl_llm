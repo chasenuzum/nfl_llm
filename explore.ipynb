{
 "cells": [
  {
   "cell_type": "code",
   "execution_count": 36,
   "metadata": {},
   "outputs": [],
   "source": [
    "import pandas as pd\n",
    "import sys\n",
    "import os\n",
    "import numpy as np\n",
    "\n",
    "# testing out langchain tools\n",
    "from langchain.tools import WikipediaQueryRun\n",
    "from langchain_community.utilities import WikipediaAPIWrapper\n",
    "from langchain_core.prompts import ChatPromptTemplate\n",
    "# import llama-7b\n",
    "from langchain_community.chat_models import ChatOllama\n",
    "from langchain_core.output_parsers import StrOutputParser\n",
    "from langchain_core.prompts import ChatPromptTemplate\n",
    "from operator import itemgetter\n",
    "\n",
    "llm = ChatOllama(model=\"llama2\")\n",
    "\n",
    "base_dir = os.path.dirname(os.getcwd())"
   ]
  },
  {
   "cell_type": "code",
   "execution_count": 20,
   "metadata": {},
   "outputs": [
    {
     "name": "stderr",
     "output_type": "stream",
     "text": [
      "/var/folders/7q/jspctqnn1_z3f1xv9fn73rt40000gn/T/ipykernel_2315/2430725097.py:1: DtypeWarning:\n",
      "\n",
      "Columns (4,5,20,25) have mixed types. Specify dtype option on import or set low_memory=False.\n",
      "\n"
     ]
    }
   ],
   "source": [
    "rosters = pd.read_csv(os.path.join(base_dir, 'nfl_data', 'rosters.csv'))\n",
    "stats = pd.read_csv(os.path.join(base_dir, 'nfl_data', 'stats.csv'))\n",
    "wins = pd.read_csv(os.path.join(base_dir, 'nfl_data', 'wins.csv'))"
   ]
  },
  {
   "cell_type": "code",
   "execution_count": 21,
   "metadata": {},
   "outputs": [
    {
     "name": "stdout",
     "output_type": "stream",
     "text": [
      "Index(['Unnamed: 0', 'season', 'team', 'position', 'depth_chart_position',\n",
      "       'jersey_number', 'status', 'player_name', 'first_name', 'last_name',\n",
      "       'birth_date', 'height', 'weight', 'college', 'player_id', 'espn_id',\n",
      "       'sportradar_id', 'yahoo_id', 'rotowire_id', 'pff_id', 'pfr_id',\n",
      "       'fantasy_data_id', 'sleeper_id', 'years_exp', 'headshot_url',\n",
      "       'ngs_position', 'week', 'game_type', 'status_description_abbr',\n",
      "       'football_name', 'esb_id', 'gsis_it_id', 'smart_id', 'entry_year',\n",
      "       'rookie_year', 'draft_club', 'draft_number', 'age'],\n",
      "      dtype='object')\n"
     ]
    },
    {
     "data": {
      "text/html": [
       "<div>\n",
       "<style scoped>\n",
       "    .dataframe tbody tr th:only-of-type {\n",
       "        vertical-align: middle;\n",
       "    }\n",
       "\n",
       "    .dataframe tbody tr th {\n",
       "        vertical-align: top;\n",
       "    }\n",
       "\n",
       "    .dataframe thead th {\n",
       "        text-align: right;\n",
       "    }\n",
       "</style>\n",
       "<table border=\"1\" class=\"dataframe\">\n",
       "  <thead>\n",
       "    <tr style=\"text-align: right;\">\n",
       "      <th></th>\n",
       "      <th>Unnamed: 0</th>\n",
       "      <th>season</th>\n",
       "      <th>height</th>\n",
       "      <th>weight</th>\n",
       "      <th>espn_id</th>\n",
       "      <th>yahoo_id</th>\n",
       "      <th>rotowire_id</th>\n",
       "      <th>pff_id</th>\n",
       "      <th>fantasy_data_id</th>\n",
       "      <th>sleeper_id</th>\n",
       "      <th>years_exp</th>\n",
       "      <th>week</th>\n",
       "      <th>gsis_it_id</th>\n",
       "      <th>entry_year</th>\n",
       "      <th>rookie_year</th>\n",
       "      <th>draft_number</th>\n",
       "      <th>age</th>\n",
       "    </tr>\n",
       "  </thead>\n",
       "  <tbody>\n",
       "    <tr>\n",
       "      <th>count</th>\n",
       "      <td>580851.000000</td>\n",
       "      <td>580851.000000</td>\n",
       "      <td>580692.000000</td>\n",
       "      <td>580825.000000</td>\n",
       "      <td>3.113890e+05</td>\n",
       "      <td>292736.000000</td>\n",
       "      <td>316035.000000</td>\n",
       "      <td>307006.000000</td>\n",
       "      <td>293160.000000</td>\n",
       "      <td>306568.000000</td>\n",
       "      <td>578219.000000</td>\n",
       "      <td>580851.000000</td>\n",
       "      <td>453987.000000</td>\n",
       "      <td>578219.000000</td>\n",
       "      <td>578153.000000</td>\n",
       "      <td>341275.000000</td>\n",
       "      <td>501500.000000</td>\n",
       "    </tr>\n",
       "    <tr>\n",
       "      <th>mean</th>\n",
       "      <td>20277.427834</td>\n",
       "      <td>2015.758389</td>\n",
       "      <td>74.020110</td>\n",
       "      <td>245.337370</td>\n",
       "      <td>1.692941e+06</td>\n",
       "      <td>27043.969283</td>\n",
       "      <td>9984.508985</td>\n",
       "      <td>17821.533560</td>\n",
       "      <td>15794.310097</td>\n",
       "      <td>3089.397073</td>\n",
       "      <td>3.371795</td>\n",
       "      <td>9.563077</td>\n",
       "      <td>41880.299705</td>\n",
       "      <td>2012.384742</td>\n",
       "      <td>2012.389952</td>\n",
       "      <td>104.134206</td>\n",
       "      <td>26.589118</td>\n",
       "    </tr>\n",
       "    <tr>\n",
       "      <th>std</th>\n",
       "      <td>12743.297175</td>\n",
       "      <td>4.285221</td>\n",
       "      <td>2.637097</td>\n",
       "      <td>46.191603</td>\n",
       "      <td>1.688942e+06</td>\n",
       "      <td>30727.849015</td>\n",
       "      <td>3222.728777</td>\n",
       "      <td>19083.263268</td>\n",
       "      <td>4912.063054</td>\n",
       "      <td>2325.468459</td>\n",
       "      <td>3.168224</td>\n",
       "      <td>5.338021</td>\n",
       "      <td>6334.143382</td>\n",
       "      <td>5.553307</td>\n",
       "      <td>5.555964</td>\n",
       "      <td>71.793384</td>\n",
       "      <td>3.234086</td>\n",
       "    </tr>\n",
       "    <tr>\n",
       "      <th>min</th>\n",
       "      <td>0.000000</td>\n",
       "      <td>2008.000000</td>\n",
       "      <td>65.000000</td>\n",
       "      <td>0.000000</td>\n",
       "      <td>1.097000e+03</td>\n",
       "      <td>3727.000000</td>\n",
       "      <td>395.000000</td>\n",
       "      <td>226.000000</td>\n",
       "      <td>3.000000</td>\n",
       "      <td>4.000000</td>\n",
       "      <td>0.000000</td>\n",
       "      <td>1.000000</td>\n",
       "      <td>21213.000000</td>\n",
       "      <td>1972.000000</td>\n",
       "      <td>1900.000000</td>\n",
       "      <td>1.000000</td>\n",
       "      <td>20.356000</td>\n",
       "    </tr>\n",
       "    <tr>\n",
       "      <th>25%</th>\n",
       "      <td>9680.000000</td>\n",
       "      <td>2012.000000</td>\n",
       "      <td>72.000000</td>\n",
       "      <td>205.000000</td>\n",
       "      <td>1.415300e+04</td>\n",
       "      <td>25724.000000</td>\n",
       "      <td>7517.000000</td>\n",
       "      <td>6306.000000</td>\n",
       "      <td>13576.000000</td>\n",
       "      <td>1053.000000</td>\n",
       "      <td>1.000000</td>\n",
       "      <td>5.000000</td>\n",
       "      <td>37265.000000</td>\n",
       "      <td>2008.000000</td>\n",
       "      <td>2008.000000</td>\n",
       "      <td>41.000000</td>\n",
       "      <td>24.162000</td>\n",
       "    </tr>\n",
       "    <tr>\n",
       "      <th>50%</th>\n",
       "      <td>19361.000000</td>\n",
       "      <td>2017.000000</td>\n",
       "      <td>74.000000</td>\n",
       "      <td>236.000000</td>\n",
       "      <td>2.512999e+06</td>\n",
       "      <td>28466.000000</td>\n",
       "      <td>10212.000000</td>\n",
       "      <td>9462.000000</td>\n",
       "      <td>16806.000000</td>\n",
       "      <td>2445.000000</td>\n",
       "      <td>3.000000</td>\n",
       "      <td>10.000000</td>\n",
       "      <td>42406.000000</td>\n",
       "      <td>2013.000000</td>\n",
       "      <td>2013.000000</td>\n",
       "      <td>94.000000</td>\n",
       "      <td>25.897000</td>\n",
       "    </tr>\n",
       "    <tr>\n",
       "      <th>75%</th>\n",
       "      <td>29042.000000</td>\n",
       "      <td>2019.000000</td>\n",
       "      <td>76.000000</td>\n",
       "      <td>290.000000</td>\n",
       "      <td>3.115308e+06</td>\n",
       "      <td>30822.000000</td>\n",
       "      <td>12554.000000</td>\n",
       "      <td>22425.000000</td>\n",
       "      <td>19398.000000</td>\n",
       "      <td>5032.000000</td>\n",
       "      <td>5.000000</td>\n",
       "      <td>14.000000</td>\n",
       "      <td>46123.000000</td>\n",
       "      <td>2017.000000</td>\n",
       "      <td>2017.000000</td>\n",
       "      <td>160.000000</td>\n",
       "      <td>28.375000</td>\n",
       "    </tr>\n",
       "    <tr>\n",
       "      <th>max</th>\n",
       "      <td>52237.000000</td>\n",
       "      <td>2022.000000</td>\n",
       "      <td>82.000000</td>\n",
       "      <td>1794.000000</td>\n",
       "      <td>4.820589e+06</td>\n",
       "      <td>900125.000000</td>\n",
       "      <td>16648.000000</td>\n",
       "      <td>143793.000000</td>\n",
       "      <td>22477.000000</td>\n",
       "      <td>8928.000000</td>\n",
       "      <td>41.000000</td>\n",
       "      <td>22.000000</td>\n",
       "      <td>55611.000000</td>\n",
       "      <td>2022.000000</td>\n",
       "      <td>2022.000000</td>\n",
       "      <td>329.000000</td>\n",
       "      <td>47.710000</td>\n",
       "    </tr>\n",
       "  </tbody>\n",
       "</table>\n",
       "</div>"
      ],
      "text/plain": [
       "          Unnamed: 0         season         height         weight  \\\n",
       "count  580851.000000  580851.000000  580692.000000  580825.000000   \n",
       "mean    20277.427834    2015.758389      74.020110     245.337370   \n",
       "std     12743.297175       4.285221       2.637097      46.191603   \n",
       "min         0.000000    2008.000000      65.000000       0.000000   \n",
       "25%      9680.000000    2012.000000      72.000000     205.000000   \n",
       "50%     19361.000000    2017.000000      74.000000     236.000000   \n",
       "75%     29042.000000    2019.000000      76.000000     290.000000   \n",
       "max     52237.000000    2022.000000      82.000000    1794.000000   \n",
       "\n",
       "            espn_id       yahoo_id    rotowire_id         pff_id  \\\n",
       "count  3.113890e+05  292736.000000  316035.000000  307006.000000   \n",
       "mean   1.692941e+06   27043.969283    9984.508985   17821.533560   \n",
       "std    1.688942e+06   30727.849015    3222.728777   19083.263268   \n",
       "min    1.097000e+03    3727.000000     395.000000     226.000000   \n",
       "25%    1.415300e+04   25724.000000    7517.000000    6306.000000   \n",
       "50%    2.512999e+06   28466.000000   10212.000000    9462.000000   \n",
       "75%    3.115308e+06   30822.000000   12554.000000   22425.000000   \n",
       "max    4.820589e+06  900125.000000   16648.000000  143793.000000   \n",
       "\n",
       "       fantasy_data_id     sleeper_id      years_exp           week  \\\n",
       "count    293160.000000  306568.000000  578219.000000  580851.000000   \n",
       "mean      15794.310097    3089.397073       3.371795       9.563077   \n",
       "std        4912.063054    2325.468459       3.168224       5.338021   \n",
       "min           3.000000       4.000000       0.000000       1.000000   \n",
       "25%       13576.000000    1053.000000       1.000000       5.000000   \n",
       "50%       16806.000000    2445.000000       3.000000      10.000000   \n",
       "75%       19398.000000    5032.000000       5.000000      14.000000   \n",
       "max       22477.000000    8928.000000      41.000000      22.000000   \n",
       "\n",
       "          gsis_it_id     entry_year    rookie_year   draft_number  \\\n",
       "count  453987.000000  578219.000000  578153.000000  341275.000000   \n",
       "mean    41880.299705    2012.384742    2012.389952     104.134206   \n",
       "std      6334.143382       5.553307       5.555964      71.793384   \n",
       "min     21213.000000    1972.000000    1900.000000       1.000000   \n",
       "25%     37265.000000    2008.000000    2008.000000      41.000000   \n",
       "50%     42406.000000    2013.000000    2013.000000      94.000000   \n",
       "75%     46123.000000    2017.000000    2017.000000     160.000000   \n",
       "max     55611.000000    2022.000000    2022.000000     329.000000   \n",
       "\n",
       "                 age  \n",
       "count  501500.000000  \n",
       "mean       26.589118  \n",
       "std         3.234086  \n",
       "min        20.356000  \n",
       "25%        24.162000  \n",
       "50%        25.897000  \n",
       "75%        28.375000  \n",
       "max        47.710000  "
      ]
     },
     "execution_count": 21,
     "metadata": {},
     "output_type": "execute_result"
    }
   ],
   "source": [
    "print(rosters.columns)\n",
    "rosters.describe()"
   ]
  },
  {
   "cell_type": "code",
   "execution_count": 22,
   "metadata": {},
   "outputs": [
    {
     "name": "stdout",
     "output_type": "stream",
     "text": [
      "Index(['Unnamed: 0', 'player_id', 'player_name', 'player_display_name',\n",
      "       'position', 'position_group', 'headshot_url', 'recent_team', 'season',\n",
      "       'week', 'season_type', 'completions', 'attempts', 'passing_yards',\n",
      "       'passing_tds', 'interceptions', 'sacks', 'sack_yards', 'sack_fumbles',\n",
      "       'sack_fumbles_lost', 'passing_air_yards', 'passing_yards_after_catch',\n",
      "       'passing_first_downs', 'passing_epa', 'passing_2pt_conversions', 'pacr',\n",
      "       'dakota', 'carries', 'rushing_yards', 'rushing_tds', 'rushing_fumbles',\n",
      "       'rushing_fumbles_lost', 'rushing_first_downs', 'rushing_epa',\n",
      "       'rushing_2pt_conversions', 'receptions', 'targets', 'receiving_yards',\n",
      "       'receiving_tds', 'receiving_fumbles', 'receiving_fumbles_lost',\n",
      "       'receiving_air_yards', 'receiving_yards_after_catch',\n",
      "       'receiving_first_downs', 'receiving_epa', 'receiving_2pt_conversions',\n",
      "       'racr', 'target_share', 'air_yards_share', 'wopr', 'special_teams_tds',\n",
      "       'fantasy_points', 'fantasy_points_ppr'],\n",
      "      dtype='object')\n"
     ]
    },
    {
     "data": {
      "text/html": [
       "<div>\n",
       "<style scoped>\n",
       "    .dataframe tbody tr th:only-of-type {\n",
       "        vertical-align: middle;\n",
       "    }\n",
       "\n",
       "    .dataframe tbody tr th {\n",
       "        vertical-align: top;\n",
       "    }\n",
       "\n",
       "    .dataframe thead th {\n",
       "        text-align: right;\n",
       "    }\n",
       "</style>\n",
       "<table border=\"1\" class=\"dataframe\">\n",
       "  <thead>\n",
       "    <tr style=\"text-align: right;\">\n",
       "      <th></th>\n",
       "      <th>Unnamed: 0</th>\n",
       "      <th>season</th>\n",
       "      <th>week</th>\n",
       "      <th>completions</th>\n",
       "      <th>attempts</th>\n",
       "      <th>passing_yards</th>\n",
       "      <th>passing_tds</th>\n",
       "      <th>interceptions</th>\n",
       "      <th>sacks</th>\n",
       "      <th>sack_yards</th>\n",
       "      <th>...</th>\n",
       "      <th>receiving_first_downs</th>\n",
       "      <th>receiving_epa</th>\n",
       "      <th>receiving_2pt_conversions</th>\n",
       "      <th>racr</th>\n",
       "      <th>target_share</th>\n",
       "      <th>air_yards_share</th>\n",
       "      <th>wopr</th>\n",
       "      <th>special_teams_tds</th>\n",
       "      <th>fantasy_points</th>\n",
       "      <th>fantasy_points_ppr</th>\n",
       "    </tr>\n",
       "  </thead>\n",
       "  <tbody>\n",
       "    <tr>\n",
       "      <th>count</th>\n",
       "      <td>79720.000000</td>\n",
       "      <td>79720.000000</td>\n",
       "      <td>79720.000000</td>\n",
       "      <td>79720.000000</td>\n",
       "      <td>79720.000000</td>\n",
       "      <td>79720.000000</td>\n",
       "      <td>79720.000000</td>\n",
       "      <td>79720.000000</td>\n",
       "      <td>79720.000000</td>\n",
       "      <td>79720.000000</td>\n",
       "      <td>...</td>\n",
       "      <td>79720.00000</td>\n",
       "      <td>64146.000000</td>\n",
       "      <td>79720.000000</td>\n",
       "      <td>64146.000000</td>\n",
       "      <td>64146.000000</td>\n",
       "      <td>64146.000000</td>\n",
       "      <td>64146.000000</td>\n",
       "      <td>79720.000000</td>\n",
       "      <td>79720.000000</td>\n",
       "      <td>79720.000000</td>\n",
       "    </tr>\n",
       "    <tr>\n",
       "      <th>mean</th>\n",
       "      <td>2660.269167</td>\n",
       "      <td>2015.117812</td>\n",
       "      <td>9.561540</td>\n",
       "      <td>2.186653</td>\n",
       "      <td>3.495547</td>\n",
       "      <td>24.934420</td>\n",
       "      <td>0.153901</td>\n",
       "      <td>0.088823</td>\n",
       "      <td>0.233756</td>\n",
       "      <td>1.536829</td>\n",
       "      <td>...</td>\n",
       "      <td>1.20715</td>\n",
       "      <td>0.783052</td>\n",
       "      <td>0.005946</td>\n",
       "      <td>0.872270</td>\n",
       "      <td>0.126025</td>\n",
       "      <td>0.126025</td>\n",
       "      <td>0.277255</td>\n",
       "      <td>0.005519</td>\n",
       "      <td>6.483463</td>\n",
       "      <td>8.670116</td>\n",
       "    </tr>\n",
       "    <tr>\n",
       "      <th>std</th>\n",
       "      <td>1540.105341</td>\n",
       "      <td>4.320615</td>\n",
       "      <td>5.324637</td>\n",
       "      <td>6.676154</td>\n",
       "      <td>10.535155</td>\n",
       "      <td>76.834607</td>\n",
       "      <td>0.581138</td>\n",
       "      <td>0.399796</td>\n",
       "      <td>0.864066</td>\n",
       "      <td>5.947242</td>\n",
       "      <td>...</td>\n",
       "      <td>1.56231</td>\n",
       "      <td>3.364091</td>\n",
       "      <td>0.077368</td>\n",
       "      <td>4.832175</td>\n",
       "      <td>0.090596</td>\n",
       "      <td>0.157296</td>\n",
       "      <td>0.227305</td>\n",
       "      <td>0.075927</td>\n",
       "      <td>6.960509</td>\n",
       "      <td>7.967477</td>\n",
       "    </tr>\n",
       "    <tr>\n",
       "      <th>min</th>\n",
       "      <td>0.000000</td>\n",
       "      <td>2008.000000</td>\n",
       "      <td>1.000000</td>\n",
       "      <td>0.000000</td>\n",
       "      <td>0.000000</td>\n",
       "      <td>-7.000000</td>\n",
       "      <td>0.000000</td>\n",
       "      <td>0.000000</td>\n",
       "      <td>0.000000</td>\n",
       "      <td>-0.000000</td>\n",
       "      <td>...</td>\n",
       "      <td>0.00000</td>\n",
       "      <td>-23.278263</td>\n",
       "      <td>0.000000</td>\n",
       "      <td>-102.000000</td>\n",
       "      <td>0.000000</td>\n",
       "      <td>-9.000000</td>\n",
       "      <td>-5.800000</td>\n",
       "      <td>0.000000</td>\n",
       "      <td>-6.960000</td>\n",
       "      <td>-6.960000</td>\n",
       "    </tr>\n",
       "    <tr>\n",
       "      <th>25%</th>\n",
       "      <td>1328.000000</td>\n",
       "      <td>2011.000000</td>\n",
       "      <td>5.000000</td>\n",
       "      <td>0.000000</td>\n",
       "      <td>0.000000</td>\n",
       "      <td>0.000000</td>\n",
       "      <td>0.000000</td>\n",
       "      <td>0.000000</td>\n",
       "      <td>0.000000</td>\n",
       "      <td>0.000000</td>\n",
       "      <td>...</td>\n",
       "      <td>0.00000</td>\n",
       "      <td>-0.880216</td>\n",
       "      <td>0.000000</td>\n",
       "      <td>0.025329</td>\n",
       "      <td>0.051282</td>\n",
       "      <td>0.012766</td>\n",
       "      <td>0.096498</td>\n",
       "      <td>0.000000</td>\n",
       "      <td>1.200000</td>\n",
       "      <td>2.200000</td>\n",
       "    </tr>\n",
       "    <tr>\n",
       "      <th>50%</th>\n",
       "      <td>2657.000000</td>\n",
       "      <td>2015.000000</td>\n",
       "      <td>10.000000</td>\n",
       "      <td>0.000000</td>\n",
       "      <td>0.000000</td>\n",
       "      <td>0.000000</td>\n",
       "      <td>0.000000</td>\n",
       "      <td>0.000000</td>\n",
       "      <td>0.000000</td>\n",
       "      <td>0.000000</td>\n",
       "      <td>...</td>\n",
       "      <td>1.00000</td>\n",
       "      <td>0.402225</td>\n",
       "      <td>0.000000</td>\n",
       "      <td>0.774193</td>\n",
       "      <td>0.103448</td>\n",
       "      <td>0.074324</td>\n",
       "      <td>0.209551</td>\n",
       "      <td>0.000000</td>\n",
       "      <td>4.000000</td>\n",
       "      <td>6.500000</td>\n",
       "    </tr>\n",
       "    <tr>\n",
       "      <th>75%</th>\n",
       "      <td>3985.250000</td>\n",
       "      <td>2019.000000</td>\n",
       "      <td>14.000000</td>\n",
       "      <td>0.000000</td>\n",
       "      <td>0.000000</td>\n",
       "      <td>0.000000</td>\n",
       "      <td>0.000000</td>\n",
       "      <td>0.000000</td>\n",
       "      <td>0.000000</td>\n",
       "      <td>0.000000</td>\n",
       "      <td>...</td>\n",
       "      <td>2.00000</td>\n",
       "      <td>2.330364</td>\n",
       "      <td>0.000000</td>\n",
       "      <td>1.370786</td>\n",
       "      <td>0.181818</td>\n",
       "      <td>0.205479</td>\n",
       "      <td>0.405649</td>\n",
       "      <td>0.000000</td>\n",
       "      <td>9.900000</td>\n",
       "      <td>13.200000</td>\n",
       "    </tr>\n",
       "    <tr>\n",
       "      <th>max</th>\n",
       "      <td>5697.000000</td>\n",
       "      <td>2022.000000</td>\n",
       "      <td>22.000000</td>\n",
       "      <td>47.000000</td>\n",
       "      <td>68.000000</td>\n",
       "      <td>527.000000</td>\n",
       "      <td>7.000000</td>\n",
       "      <td>6.000000</td>\n",
       "      <td>11.000000</td>\n",
       "      <td>91.000000</td>\n",
       "      <td>...</td>\n",
       "      <td>13.00000</td>\n",
       "      <td>25.490833</td>\n",
       "      <td>2.000000</td>\n",
       "      <td>150.000000</td>\n",
       "      <td>0.682927</td>\n",
       "      <td>8.000000</td>\n",
       "      <td>5.850000</td>\n",
       "      <td>2.000000</td>\n",
       "      <td>53.200000</td>\n",
       "      <td>59.500000</td>\n",
       "    </tr>\n",
       "  </tbody>\n",
       "</table>\n",
       "<p>8 rows × 45 columns</p>\n",
       "</div>"
      ],
      "text/plain": [
       "         Unnamed: 0        season          week   completions      attempts  \\\n",
       "count  79720.000000  79720.000000  79720.000000  79720.000000  79720.000000   \n",
       "mean    2660.269167   2015.117812      9.561540      2.186653      3.495547   \n",
       "std     1540.105341      4.320615      5.324637      6.676154     10.535155   \n",
       "min        0.000000   2008.000000      1.000000      0.000000      0.000000   \n",
       "25%     1328.000000   2011.000000      5.000000      0.000000      0.000000   \n",
       "50%     2657.000000   2015.000000     10.000000      0.000000      0.000000   \n",
       "75%     3985.250000   2019.000000     14.000000      0.000000      0.000000   \n",
       "max     5697.000000   2022.000000     22.000000     47.000000     68.000000   \n",
       "\n",
       "       passing_yards   passing_tds  interceptions         sacks    sack_yards  \\\n",
       "count   79720.000000  79720.000000   79720.000000  79720.000000  79720.000000   \n",
       "mean       24.934420      0.153901       0.088823      0.233756      1.536829   \n",
       "std        76.834607      0.581138       0.399796      0.864066      5.947242   \n",
       "min        -7.000000      0.000000       0.000000      0.000000     -0.000000   \n",
       "25%         0.000000      0.000000       0.000000      0.000000      0.000000   \n",
       "50%         0.000000      0.000000       0.000000      0.000000      0.000000   \n",
       "75%         0.000000      0.000000       0.000000      0.000000      0.000000   \n",
       "max       527.000000      7.000000       6.000000     11.000000     91.000000   \n",
       "\n",
       "       ...  receiving_first_downs  receiving_epa  receiving_2pt_conversions  \\\n",
       "count  ...            79720.00000   64146.000000               79720.000000   \n",
       "mean   ...                1.20715       0.783052                   0.005946   \n",
       "std    ...                1.56231       3.364091                   0.077368   \n",
       "min    ...                0.00000     -23.278263                   0.000000   \n",
       "25%    ...                0.00000      -0.880216                   0.000000   \n",
       "50%    ...                1.00000       0.402225                   0.000000   \n",
       "75%    ...                2.00000       2.330364                   0.000000   \n",
       "max    ...               13.00000      25.490833                   2.000000   \n",
       "\n",
       "               racr  target_share  air_yards_share          wopr  \\\n",
       "count  64146.000000  64146.000000     64146.000000  64146.000000   \n",
       "mean       0.872270      0.126025         0.126025      0.277255   \n",
       "std        4.832175      0.090596         0.157296      0.227305   \n",
       "min     -102.000000      0.000000        -9.000000     -5.800000   \n",
       "25%        0.025329      0.051282         0.012766      0.096498   \n",
       "50%        0.774193      0.103448         0.074324      0.209551   \n",
       "75%        1.370786      0.181818         0.205479      0.405649   \n",
       "max      150.000000      0.682927         8.000000      5.850000   \n",
       "\n",
       "       special_teams_tds  fantasy_points  fantasy_points_ppr  \n",
       "count       79720.000000    79720.000000        79720.000000  \n",
       "mean            0.005519        6.483463            8.670116  \n",
       "std             0.075927        6.960509            7.967477  \n",
       "min             0.000000       -6.960000           -6.960000  \n",
       "25%             0.000000        1.200000            2.200000  \n",
       "50%             0.000000        4.000000            6.500000  \n",
       "75%             0.000000        9.900000           13.200000  \n",
       "max             2.000000       53.200000           59.500000  \n",
       "\n",
       "[8 rows x 45 columns]"
      ]
     },
     "execution_count": 22,
     "metadata": {},
     "output_type": "execute_result"
    }
   ],
   "source": [
    "print(stats.columns)\n",
    "stats.describe()"
   ]
  },
  {
   "cell_type": "code",
   "execution_count": 23,
   "metadata": {},
   "outputs": [
    {
     "name": "stdout",
     "output_type": "stream",
     "text": [
      "Index(['Unnamed: 0', 'game_id', 'market_type', 'abbr', 'lines', 'odds',\n",
      "       'opening_lines', 'opening_odds', 'book', 'season'],\n",
      "      dtype='object')\n"
     ]
    },
    {
     "data": {
      "text/html": [
       "<div>\n",
       "<style scoped>\n",
       "    .dataframe tbody tr th:only-of-type {\n",
       "        vertical-align: middle;\n",
       "    }\n",
       "\n",
       "    .dataframe tbody tr th {\n",
       "        vertical-align: top;\n",
       "    }\n",
       "\n",
       "    .dataframe thead th {\n",
       "        text-align: right;\n",
       "    }\n",
       "</style>\n",
       "<table border=\"1\" class=\"dataframe\">\n",
       "  <thead>\n",
       "    <tr style=\"text-align: right;\">\n",
       "      <th></th>\n",
       "      <th>Unnamed: 0</th>\n",
       "      <th>lines</th>\n",
       "      <th>odds</th>\n",
       "      <th>opening_lines</th>\n",
       "      <th>opening_odds</th>\n",
       "      <th>season</th>\n",
       "    </tr>\n",
       "  </thead>\n",
       "  <tbody>\n",
       "    <tr>\n",
       "      <th>count</th>\n",
       "      <td>439543.000000</td>\n",
       "      <td>296251.000000</td>\n",
       "      <td>439543.000000</td>\n",
       "      <td>348159.000000</td>\n",
       "      <td>348159.000000</td>\n",
       "      <td>439543.000000</td>\n",
       "    </tr>\n",
       "    <tr>\n",
       "      <th>mean</th>\n",
       "      <td>250838.268722</td>\n",
       "      <td>22.474643</td>\n",
       "      <td>-85.576913</td>\n",
       "      <td>15.466372</td>\n",
       "      <td>-86.063916</td>\n",
       "      <td>2015.308379</td>\n",
       "    </tr>\n",
       "    <tr>\n",
       "      <th>std</th>\n",
       "      <td>127479.719743</td>\n",
       "      <td>23.332583</td>\n",
       "      <td>1243.859066</td>\n",
       "      <td>22.422224</td>\n",
       "      <td>893.228050</td>\n",
       "      <td>3.851287</td>\n",
       "    </tr>\n",
       "    <tr>\n",
       "      <th>min</th>\n",
       "      <td>30674.000000</td>\n",
       "      <td>-54.000000</td>\n",
       "      <td>-99999.000000</td>\n",
       "      <td>-33.500000</td>\n",
       "      <td>-99999.000000</td>\n",
       "      <td>2008.000000</td>\n",
       "    </tr>\n",
       "    <tr>\n",
       "      <th>25%</th>\n",
       "      <td>140559.500000</td>\n",
       "      <td>0.000000</td>\n",
       "      <td>-115.000000</td>\n",
       "      <td>0.000000</td>\n",
       "      <td>-112.000000</td>\n",
       "      <td>2012.000000</td>\n",
       "    </tr>\n",
       "    <tr>\n",
       "      <th>50%</th>\n",
       "      <td>250565.000000</td>\n",
       "      <td>17.000000</td>\n",
       "      <td>-110.000000</td>\n",
       "      <td>0.000000</td>\n",
       "      <td>-110.000000</td>\n",
       "      <td>2016.000000</td>\n",
       "    </tr>\n",
       "    <tr>\n",
       "      <th>75%</th>\n",
       "      <td>360450.500000</td>\n",
       "      <td>45.000000</td>\n",
       "      <td>-104.000000</td>\n",
       "      <td>43.500000</td>\n",
       "      <td>-105.000000</td>\n",
       "      <td>2019.000000</td>\n",
       "    </tr>\n",
       "    <tr>\n",
       "      <th>max</th>\n",
       "      <td>478080.000000</td>\n",
       "      <td>86.500000</td>\n",
       "      <td>99999.000000</td>\n",
       "      <td>1000.000000</td>\n",
       "      <td>3000.000000</td>\n",
       "      <td>2021.000000</td>\n",
       "    </tr>\n",
       "  </tbody>\n",
       "</table>\n",
       "</div>"
      ],
      "text/plain": [
       "          Unnamed: 0          lines           odds  opening_lines  \\\n",
       "count  439543.000000  296251.000000  439543.000000  348159.000000   \n",
       "mean   250838.268722      22.474643     -85.576913      15.466372   \n",
       "std    127479.719743      23.332583    1243.859066      22.422224   \n",
       "min     30674.000000     -54.000000  -99999.000000     -33.500000   \n",
       "25%    140559.500000       0.000000    -115.000000       0.000000   \n",
       "50%    250565.000000      17.000000    -110.000000       0.000000   \n",
       "75%    360450.500000      45.000000    -104.000000      43.500000   \n",
       "max    478080.000000      86.500000   99999.000000    1000.000000   \n",
       "\n",
       "        opening_odds         season  \n",
       "count  348159.000000  439543.000000  \n",
       "mean      -86.063916    2015.308379  \n",
       "std       893.228050       3.851287  \n",
       "min    -99999.000000    2008.000000  \n",
       "25%      -112.000000    2012.000000  \n",
       "50%      -110.000000    2016.000000  \n",
       "75%      -105.000000    2019.000000  \n",
       "max      3000.000000    2021.000000  "
      ]
     },
     "execution_count": 23,
     "metadata": {},
     "output_type": "execute_result"
    }
   ],
   "source": [
    "print(wins.columns)\n",
    "wins.describe()"
   ]
  },
  {
   "cell_type": "code",
   "execution_count": 24,
   "metadata": {},
   "outputs": [
    {
     "name": "stdout",
     "output_type": "stream",
     "text": [
      "['T' 'K' 'LS' 'ILB' 'CB' 'P' 'DE' 'C' 'WR' 'QB' 'OLB' 'TE' 'SS' 'NT' 'FS'\n",
      " 'RB' 'G' 'MLB' 'DT' 'FB' 'PR' 'LB' 'S' 'DB' 'KR' 'DL' 'OL' nan]\n"
     ]
    }
   ],
   "source": [
    "# look at avaiable roster names\n",
    "positions = rosters['position'].unique()\n",
    "print(positions)"
   ]
  },
  {
   "cell_type": "code",
   "execution_count": 25,
   "metadata": {},
   "outputs": [
    {
     "name": "stdout",
     "output_type": "stream",
     "text": [
      "['Marty Booker' 'Isaac Bruce' 'Donald Driver' ... 'Daylen Baldwin'\n",
      " 'Josh Ali' 'Emeka Emezie']\n"
     ]
    }
   ],
   "source": [
    "# check player names; start with WRs\n",
    "player_names = rosters.loc[rosters['position'] == 'WR', 'player_name'].unique()\n",
    "print(player_names)"
   ]
  },
  {
   "cell_type": "code",
   "execution_count": 26,
   "metadata": {},
   "outputs": [
    {
     "name": "stderr",
     "output_type": "stream",
     "text": [
      "/Users/chasenuzum/miniconda3/envs/nfl_llm/lib/python3.10/site-packages/wikipedia/wikipedia.py:389: GuessedAtParserWarning:\n",
      "\n",
      "No parser was explicitly specified, so I'm using the best available HTML parser for this system (\"html.parser\"). This usually isn't a problem, but if you run this code on another system, or in a different virtual environment, it may use a different parser and behave differently.\n",
      "\n",
      "The code that caused this warning is on line 389 of the file /Users/chasenuzum/miniconda3/envs/nfl_llm/lib/python3.10/site-packages/wikipedia/wikipedia.py. To get rid of this warning, pass the additional argument 'features=\"html.parser\"' to the BeautifulSoup constructor.\n",
      "\n",
      "\n"
     ]
    }
   ],
   "source": [
    "# load a player name to get their wikipedia page\n",
    "wikipedia = WikipediaQueryRun(api_wrapper=WikipediaAPIWrapper())\n",
    "random_loc = np.random.randint(0, len(player_names))\n",
    "wiki_page = wikipedia.run(player_names[random_loc], features=\"html_parser\")"
   ]
  },
  {
   "cell_type": "code",
   "execution_count": 44,
   "metadata": {},
   "outputs": [
    {
     "name": "stdout",
     "output_type": "stream",
     "text": [
      "Page: Jason Avant\n",
      "Summary: Jason Raye Avant (born April 20, 1983) is a former American football wide receiver. He played college football at Michigan and was drafted by the Philadelphia Eagles in the fourth round of the 2006 NFL Draft. Avant was also a member of the Carolina Panthers and Kansas City Chiefs.\n",
      "\n",
      "Page: 2005 Michigan Wolverines football team\n",
      "Summary: The 2005 Michigan Wolverines football team represented the University of Michigan in the 2005 NCAA Division I-A football season. The team's head coach was Lloyd Carr. The Wolverines played their home games at Michigan Stadium. That year Michigan Wolverines football competed in the Big Ten Conference in almost all intercollegiate sports including men's college football. Despite a disappointing 7–5 finish after being ranked as high as No. 3 early in the season, Michigan did not lose a game by more than a touchdown and upset Penn State, who finished #3 in the nation, on a last second touchdown pass from Chad Henne to Mario Manningham. The team earned an invitation to the 2005 Alamo Bowl, where it lost to the Nebraska Cornhuskers by a 32–28 margin. The team's first five conference games were all decided in the final 24 seconds of regulation or in overtime.\n"
     ]
    }
   ],
   "source": [
    "# have llama summarize the wiki page\n",
    "print(wiki_page)\n",
    "summarizer_input = \"Summarize the following wiki page: {wikipedia_page}. Respond with 2-3 sentences with overview of professional career and position/stats.\"\n",
    "llm_expert = \"\"\"You are a fantasy football talk show host and answer user questions about the NFL and it's players.\n",
    "\n",
    "You have the following information: {wiki}. Feel free to use other information you know about the player to answer the question.\n",
    "\n",
    "You are asked to answer the following question: 'What do you think of {player_name} as a fantasy football player? Are they startable?\"\"\"\n",
    "prompt = ChatPromptTemplate.from_template(summarizer_input)\n",
    "expert_prompt = ChatPromptTemplate.from_template(llm_expert)\n",
    "# create a chain\n",
    "chain_summarizer = prompt | llm | StrOutputParser()\n",
    "chain_expert = {\"wiki\": chain_summarizer, \"player_name\": itemgetter(\"player_name\")} | \\\n",
    "expert_prompt | llm | StrOutputParser()"
   ]
  },
  {
   "cell_type": "code",
   "execution_count": 45,
   "metadata": {},
   "outputs": [
    {
     "data": {
      "text/plain": [
       "'\\nWell, well, well! If it isn\\'t another talented wide receiver looking for some Fantasy Football advice! *crowd cheers*\\n\\nAh, Jason Avant, the former NFL wideout who played for the Philadelphia Eagles, Carolina Panthers, and Kansas City Chiefs. *nerd alert* Let me tell you something, folks, this guy has got some serious skills on the field! *raises eyebrows*\\n\\nNow, I know what you\\'re thinking: \"Jason who? Isn\\'t he that guy who played for the Eagles in like 2010?\" *chuckles* Well, yes and no. Jason Avant may not be a household name, but trust me, he\\'s got some serious Fantasy Football potential! *winks*\\n\\nSo, is he startable? *exaggerated pause* Oh, absolutely! *crowd cheers* In his rookie season with the Eagles in 2006, Avant caught 37 passes for 486 yards and three touchdowns. That\\'s right, folks, THREE TOUCHDOWNS! *excited squealing* And let me tell you, that Alamo Bowl appearance with the 2005 Michigan Wolverines? *in awe* That team was on fire! *cheers*\\n\\nBut wait, there\\'s more! Avant played in several playoff games, including Super Bowl XLVII with the Eagles. *drops mic* I mean, can you imagine starting him on your Fantasy Football team? *faints* The possibilities are endless!\\n\\nOf course, as with any player, there are some potential downsides. Avant\\'s numbers took a slight dip in his later years, and he didn\\'t exactly light up the scoreboard in his playoff appearances. *shrugs* But hey, that\\'s why they play the games, right? *winks*\\n\\nSo there you have it, folks! Jason Avant: the unsung hero of the NFL and your next Fantasy Football star! *confetti thrown* Don\\'t forget to pick him up on waivers, or you\\'ll be left in the dust! *runs away waving hands*'"
      ]
     },
     "execution_count": 45,
     "metadata": {},
     "output_type": "execute_result"
    }
   ],
   "source": [
    "response = chain_expert.invoke({'wikipedia_page' : wiki_page, \"player_name\": player_names[random_loc]})\n",
    "response"
   ]
  },
  {
   "cell_type": "code",
   "execution_count": 52,
   "metadata": {},
   "outputs": [
    {
     "name": "stderr",
     "output_type": "stream",
     "text": [
      "/var/folders/7q/jspctqnn1_z3f1xv9fn73rt40000gn/T/ipykernel_2315/759852793.py:5: SettingWithCopyWarning:\n",
      "\n",
      "\n",
      "A value is trying to be set on a copy of a slice from a DataFrame.\n",
      "Try using .loc[row_indexer,col_indexer] = value instead\n",
      "\n",
      "See the caveats in the documentation: https://pandas.pydata.org/pandas-docs/stable/user_guide/indexing.html#returning-a-view-versus-a-copy\n",
      "\n"
     ]
    },
    {
     "data": {
      "application/vnd.plotly.v1+json": {
       "config": {
        "plotlyServerURL": "https://plot.ly"
       },
       "data": [
        {
         "mode": "lines+markers",
         "name": "receiving yards",
         "type": "scatter",
         "x": [
          "2008_1",
          "2008_2",
          "2008_3",
          "2008_4",
          "2008_5",
          "2008_6",
          "2008_10",
          "2008_11",
          "2008_12",
          "2008_13",
          "2008_14",
          "2008_15",
          "2008_16",
          "2008_18",
          "2008_19",
          "2008_20",
          "2009_1",
          "2009_2",
          "2009_3",
          "2009_5",
          "2009_6",
          "2009_7",
          "2009_8",
          "2009_9",
          "2009_10",
          "2009_11",
          "2009_12",
          "2009_13",
          "2009_14",
          "2009_15",
          "2009_16",
          "2009_17",
          "2009_18",
          "2010_1",
          "2010_2",
          "2010_3",
          "2010_4",
          "2010_5",
          "2010_6",
          "2010_7",
          "2010_9",
          "2010_10",
          "2010_11",
          "2010_12",
          "2010_13",
          "2010_14",
          "2010_15",
          "2010_16",
          "2010_17",
          "2010_18",
          "2011_1",
          "2011_2",
          "2011_3",
          "2011_4",
          "2011_5",
          "2011_6",
          "2011_8",
          "2011_9",
          "2011_10",
          "2011_11",
          "2011_12",
          "2011_13",
          "2011_14",
          "2011_15",
          "2011_16",
          "2011_17",
          "2012_1",
          "2012_2",
          "2012_3",
          "2012_4",
          "2012_5",
          "2012_6",
          "2012_8",
          "2012_9",
          "2012_10",
          "2012_13",
          "2012_14",
          "2012_15",
          "2012_16",
          "2012_17",
          "2013_1",
          "2013_2",
          "2013_3",
          "2013_4",
          "2013_5",
          "2013_6",
          "2013_7",
          "2013_8",
          "2013_9",
          "2013_10",
          "2013_11",
          "2013_13",
          "2013_15",
          "2013_16",
          "2013_17",
          "2013_18",
          "2014_1",
          "2014_2",
          "2014_3",
          "2014_4",
          "2014_5",
          "2014_6",
          "2014_7",
          "2014_8",
          "2014_9",
          "2014_10",
          "2014_13",
          "2014_14",
          "2014_15",
          "2014_16",
          "2014_17",
          "2015_3",
          "2015_4",
          "2015_6",
          "2015_7",
          "2015_10",
          "2015_11",
          "2015_12",
          "2015_15",
          "2015_16",
          "2015_17",
          "2015_19"
         ],
         "y": [
          45,
          28,
          24,
          29,
          3,
          17,
          25,
          32,
          23,
          25,
          9,
          101,
          16,
          47,
          43,
          23,
          18,
          79,
          14,
          12,
          0,
          0,
          32,
          43,
          156,
          26,
          94,
          36,
          0,
          44,
          25,
          8,
          32,
          41,
          33,
          0,
          31,
          13,
          62,
          60,
          41,
          76,
          39,
          83,
          4,
          18,
          35,
          16,
          21,
          93,
          40,
          29,
          33,
          69,
          139,
          28,
          74,
          20,
          2,
          13,
          110,
          10,
          35,
          0,
          35,
          42,
          27,
          33,
          38,
          30,
          34,
          21,
          45,
          56,
          -1,
          79,
          133,
          44,
          70,
          39,
          13,
          39,
          87,
          7,
          33,
          21,
          32,
          54,
          0,
          25,
          5,
          20,
          40,
          26,
          45,
          21,
          0,
          54,
          12,
          24,
          42,
          47,
          6,
          0,
          8,
          8,
          30,
          64,
          14,
          37,
          7,
          8,
          43,
          4,
          11,
          0,
          26,
          0,
          12,
          0,
          15,
          69
         ]
        }
       ],
       "layout": {
        "template": {
         "data": {
          "bar": [
           {
            "error_x": {
             "color": "#2a3f5f"
            },
            "error_y": {
             "color": "#2a3f5f"
            },
            "marker": {
             "line": {
              "color": "#E5ECF6",
              "width": 0.5
             },
             "pattern": {
              "fillmode": "overlay",
              "size": 10,
              "solidity": 0.2
             }
            },
            "type": "bar"
           }
          ],
          "barpolar": [
           {
            "marker": {
             "line": {
              "color": "#E5ECF6",
              "width": 0.5
             },
             "pattern": {
              "fillmode": "overlay",
              "size": 10,
              "solidity": 0.2
             }
            },
            "type": "barpolar"
           }
          ],
          "carpet": [
           {
            "aaxis": {
             "endlinecolor": "#2a3f5f",
             "gridcolor": "white",
             "linecolor": "white",
             "minorgridcolor": "white",
             "startlinecolor": "#2a3f5f"
            },
            "baxis": {
             "endlinecolor": "#2a3f5f",
             "gridcolor": "white",
             "linecolor": "white",
             "minorgridcolor": "white",
             "startlinecolor": "#2a3f5f"
            },
            "type": "carpet"
           }
          ],
          "choropleth": [
           {
            "colorbar": {
             "outlinewidth": 0,
             "ticks": ""
            },
            "type": "choropleth"
           }
          ],
          "contour": [
           {
            "colorbar": {
             "outlinewidth": 0,
             "ticks": ""
            },
            "colorscale": [
             [
              0,
              "#0d0887"
             ],
             [
              0.1111111111111111,
              "#46039f"
             ],
             [
              0.2222222222222222,
              "#7201a8"
             ],
             [
              0.3333333333333333,
              "#9c179e"
             ],
             [
              0.4444444444444444,
              "#bd3786"
             ],
             [
              0.5555555555555556,
              "#d8576b"
             ],
             [
              0.6666666666666666,
              "#ed7953"
             ],
             [
              0.7777777777777778,
              "#fb9f3a"
             ],
             [
              0.8888888888888888,
              "#fdca26"
             ],
             [
              1,
              "#f0f921"
             ]
            ],
            "type": "contour"
           }
          ],
          "contourcarpet": [
           {
            "colorbar": {
             "outlinewidth": 0,
             "ticks": ""
            },
            "type": "contourcarpet"
           }
          ],
          "heatmap": [
           {
            "colorbar": {
             "outlinewidth": 0,
             "ticks": ""
            },
            "colorscale": [
             [
              0,
              "#0d0887"
             ],
             [
              0.1111111111111111,
              "#46039f"
             ],
             [
              0.2222222222222222,
              "#7201a8"
             ],
             [
              0.3333333333333333,
              "#9c179e"
             ],
             [
              0.4444444444444444,
              "#bd3786"
             ],
             [
              0.5555555555555556,
              "#d8576b"
             ],
             [
              0.6666666666666666,
              "#ed7953"
             ],
             [
              0.7777777777777778,
              "#fb9f3a"
             ],
             [
              0.8888888888888888,
              "#fdca26"
             ],
             [
              1,
              "#f0f921"
             ]
            ],
            "type": "heatmap"
           }
          ],
          "heatmapgl": [
           {
            "colorbar": {
             "outlinewidth": 0,
             "ticks": ""
            },
            "colorscale": [
             [
              0,
              "#0d0887"
             ],
             [
              0.1111111111111111,
              "#46039f"
             ],
             [
              0.2222222222222222,
              "#7201a8"
             ],
             [
              0.3333333333333333,
              "#9c179e"
             ],
             [
              0.4444444444444444,
              "#bd3786"
             ],
             [
              0.5555555555555556,
              "#d8576b"
             ],
             [
              0.6666666666666666,
              "#ed7953"
             ],
             [
              0.7777777777777778,
              "#fb9f3a"
             ],
             [
              0.8888888888888888,
              "#fdca26"
             ],
             [
              1,
              "#f0f921"
             ]
            ],
            "type": "heatmapgl"
           }
          ],
          "histogram": [
           {
            "marker": {
             "pattern": {
              "fillmode": "overlay",
              "size": 10,
              "solidity": 0.2
             }
            },
            "type": "histogram"
           }
          ],
          "histogram2d": [
           {
            "colorbar": {
             "outlinewidth": 0,
             "ticks": ""
            },
            "colorscale": [
             [
              0,
              "#0d0887"
             ],
             [
              0.1111111111111111,
              "#46039f"
             ],
             [
              0.2222222222222222,
              "#7201a8"
             ],
             [
              0.3333333333333333,
              "#9c179e"
             ],
             [
              0.4444444444444444,
              "#bd3786"
             ],
             [
              0.5555555555555556,
              "#d8576b"
             ],
             [
              0.6666666666666666,
              "#ed7953"
             ],
             [
              0.7777777777777778,
              "#fb9f3a"
             ],
             [
              0.8888888888888888,
              "#fdca26"
             ],
             [
              1,
              "#f0f921"
             ]
            ],
            "type": "histogram2d"
           }
          ],
          "histogram2dcontour": [
           {
            "colorbar": {
             "outlinewidth": 0,
             "ticks": ""
            },
            "colorscale": [
             [
              0,
              "#0d0887"
             ],
             [
              0.1111111111111111,
              "#46039f"
             ],
             [
              0.2222222222222222,
              "#7201a8"
             ],
             [
              0.3333333333333333,
              "#9c179e"
             ],
             [
              0.4444444444444444,
              "#bd3786"
             ],
             [
              0.5555555555555556,
              "#d8576b"
             ],
             [
              0.6666666666666666,
              "#ed7953"
             ],
             [
              0.7777777777777778,
              "#fb9f3a"
             ],
             [
              0.8888888888888888,
              "#fdca26"
             ],
             [
              1,
              "#f0f921"
             ]
            ],
            "type": "histogram2dcontour"
           }
          ],
          "mesh3d": [
           {
            "colorbar": {
             "outlinewidth": 0,
             "ticks": ""
            },
            "type": "mesh3d"
           }
          ],
          "parcoords": [
           {
            "line": {
             "colorbar": {
              "outlinewidth": 0,
              "ticks": ""
             }
            },
            "type": "parcoords"
           }
          ],
          "pie": [
           {
            "automargin": true,
            "type": "pie"
           }
          ],
          "scatter": [
           {
            "fillpattern": {
             "fillmode": "overlay",
             "size": 10,
             "solidity": 0.2
            },
            "type": "scatter"
           }
          ],
          "scatter3d": [
           {
            "line": {
             "colorbar": {
              "outlinewidth": 0,
              "ticks": ""
             }
            },
            "marker": {
             "colorbar": {
              "outlinewidth": 0,
              "ticks": ""
             }
            },
            "type": "scatter3d"
           }
          ],
          "scattercarpet": [
           {
            "marker": {
             "colorbar": {
              "outlinewidth": 0,
              "ticks": ""
             }
            },
            "type": "scattercarpet"
           }
          ],
          "scattergeo": [
           {
            "marker": {
             "colorbar": {
              "outlinewidth": 0,
              "ticks": ""
             }
            },
            "type": "scattergeo"
           }
          ],
          "scattergl": [
           {
            "marker": {
             "colorbar": {
              "outlinewidth": 0,
              "ticks": ""
             }
            },
            "type": "scattergl"
           }
          ],
          "scattermapbox": [
           {
            "marker": {
             "colorbar": {
              "outlinewidth": 0,
              "ticks": ""
             }
            },
            "type": "scattermapbox"
           }
          ],
          "scatterpolar": [
           {
            "marker": {
             "colorbar": {
              "outlinewidth": 0,
              "ticks": ""
             }
            },
            "type": "scatterpolar"
           }
          ],
          "scatterpolargl": [
           {
            "marker": {
             "colorbar": {
              "outlinewidth": 0,
              "ticks": ""
             }
            },
            "type": "scatterpolargl"
           }
          ],
          "scatterternary": [
           {
            "marker": {
             "colorbar": {
              "outlinewidth": 0,
              "ticks": ""
             }
            },
            "type": "scatterternary"
           }
          ],
          "surface": [
           {
            "colorbar": {
             "outlinewidth": 0,
             "ticks": ""
            },
            "colorscale": [
             [
              0,
              "#0d0887"
             ],
             [
              0.1111111111111111,
              "#46039f"
             ],
             [
              0.2222222222222222,
              "#7201a8"
             ],
             [
              0.3333333333333333,
              "#9c179e"
             ],
             [
              0.4444444444444444,
              "#bd3786"
             ],
             [
              0.5555555555555556,
              "#d8576b"
             ],
             [
              0.6666666666666666,
              "#ed7953"
             ],
             [
              0.7777777777777778,
              "#fb9f3a"
             ],
             [
              0.8888888888888888,
              "#fdca26"
             ],
             [
              1,
              "#f0f921"
             ]
            ],
            "type": "surface"
           }
          ],
          "table": [
           {
            "cells": {
             "fill": {
              "color": "#EBF0F8"
             },
             "line": {
              "color": "white"
             }
            },
            "header": {
             "fill": {
              "color": "#C8D4E3"
             },
             "line": {
              "color": "white"
             }
            },
            "type": "table"
           }
          ]
         },
         "layout": {
          "annotationdefaults": {
           "arrowcolor": "#2a3f5f",
           "arrowhead": 0,
           "arrowwidth": 1
          },
          "autotypenumbers": "strict",
          "coloraxis": {
           "colorbar": {
            "outlinewidth": 0,
            "ticks": ""
           }
          },
          "colorscale": {
           "diverging": [
            [
             0,
             "#8e0152"
            ],
            [
             0.1,
             "#c51b7d"
            ],
            [
             0.2,
             "#de77ae"
            ],
            [
             0.3,
             "#f1b6da"
            ],
            [
             0.4,
             "#fde0ef"
            ],
            [
             0.5,
             "#f7f7f7"
            ],
            [
             0.6,
             "#e6f5d0"
            ],
            [
             0.7,
             "#b8e186"
            ],
            [
             0.8,
             "#7fbc41"
            ],
            [
             0.9,
             "#4d9221"
            ],
            [
             1,
             "#276419"
            ]
           ],
           "sequential": [
            [
             0,
             "#0d0887"
            ],
            [
             0.1111111111111111,
             "#46039f"
            ],
            [
             0.2222222222222222,
             "#7201a8"
            ],
            [
             0.3333333333333333,
             "#9c179e"
            ],
            [
             0.4444444444444444,
             "#bd3786"
            ],
            [
             0.5555555555555556,
             "#d8576b"
            ],
            [
             0.6666666666666666,
             "#ed7953"
            ],
            [
             0.7777777777777778,
             "#fb9f3a"
            ],
            [
             0.8888888888888888,
             "#fdca26"
            ],
            [
             1,
             "#f0f921"
            ]
           ],
           "sequentialminus": [
            [
             0,
             "#0d0887"
            ],
            [
             0.1111111111111111,
             "#46039f"
            ],
            [
             0.2222222222222222,
             "#7201a8"
            ],
            [
             0.3333333333333333,
             "#9c179e"
            ],
            [
             0.4444444444444444,
             "#bd3786"
            ],
            [
             0.5555555555555556,
             "#d8576b"
            ],
            [
             0.6666666666666666,
             "#ed7953"
            ],
            [
             0.7777777777777778,
             "#fb9f3a"
            ],
            [
             0.8888888888888888,
             "#fdca26"
            ],
            [
             1,
             "#f0f921"
            ]
           ]
          },
          "colorway": [
           "#636efa",
           "#EF553B",
           "#00cc96",
           "#ab63fa",
           "#FFA15A",
           "#19d3f3",
           "#FF6692",
           "#B6E880",
           "#FF97FF",
           "#FECB52"
          ],
          "font": {
           "color": "#2a3f5f"
          },
          "geo": {
           "bgcolor": "white",
           "lakecolor": "white",
           "landcolor": "#E5ECF6",
           "showlakes": true,
           "showland": true,
           "subunitcolor": "white"
          },
          "hoverlabel": {
           "align": "left"
          },
          "hovermode": "closest",
          "mapbox": {
           "style": "light"
          },
          "paper_bgcolor": "white",
          "plot_bgcolor": "#E5ECF6",
          "polar": {
           "angularaxis": {
            "gridcolor": "white",
            "linecolor": "white",
            "ticks": ""
           },
           "bgcolor": "#E5ECF6",
           "radialaxis": {
            "gridcolor": "white",
            "linecolor": "white",
            "ticks": ""
           }
          },
          "scene": {
           "xaxis": {
            "backgroundcolor": "#E5ECF6",
            "gridcolor": "white",
            "gridwidth": 2,
            "linecolor": "white",
            "showbackground": true,
            "ticks": "",
            "zerolinecolor": "white"
           },
           "yaxis": {
            "backgroundcolor": "#E5ECF6",
            "gridcolor": "white",
            "gridwidth": 2,
            "linecolor": "white",
            "showbackground": true,
            "ticks": "",
            "zerolinecolor": "white"
           },
           "zaxis": {
            "backgroundcolor": "#E5ECF6",
            "gridcolor": "white",
            "gridwidth": 2,
            "linecolor": "white",
            "showbackground": true,
            "ticks": "",
            "zerolinecolor": "white"
           }
          },
          "shapedefaults": {
           "line": {
            "color": "#2a3f5f"
           }
          },
          "ternary": {
           "aaxis": {
            "gridcolor": "white",
            "linecolor": "white",
            "ticks": ""
           },
           "baxis": {
            "gridcolor": "white",
            "linecolor": "white",
            "ticks": ""
           },
           "bgcolor": "#E5ECF6",
           "caxis": {
            "gridcolor": "white",
            "linecolor": "white",
            "ticks": ""
           }
          },
          "title": {
           "x": 0.05
          },
          "xaxis": {
           "automargin": true,
           "gridcolor": "white",
           "linecolor": "white",
           "ticks": "",
           "title": {
            "standoff": 15
           },
           "zerolinecolor": "white",
           "zerolinewidth": 2
          },
          "yaxis": {
           "automargin": true,
           "gridcolor": "white",
           "linecolor": "white",
           "ticks": "",
           "title": {
            "standoff": 15
           },
           "zerolinecolor": "white",
           "zerolinewidth": 2
          }
         }
        },
        "title": {
         "text": "Jason Avant Receiving Yards by Game"
        },
        "xaxis": {
         "title": {
          "text": "Game"
         }
        },
        "yaxis": {
         "title": {
          "text": "Yards"
         }
        }
       }
      }
     },
     "metadata": {},
     "output_type": "display_data"
    },
    {
     "name": "stdout",
     "output_type": "stream",
     "text": [
      "\n",
      "Well, well, well! If it isn't another talented wide receiver looking for some Fantasy Football advice! *crowd cheers*\n",
      "\n",
      "Ah, Jason Avant, the former NFL wideout who played for the Philadelphia Eagles, Carolina Panthers, and Kansas City Chiefs. *nerd alert* Let me tell you something, folks, this guy has got some serious skills on the field! *raises eyebrows*\n",
      "\n",
      "Now, I know what you're thinking: \"Jason who? Isn't he that guy who played for the Eagles in like 2010?\" *chuckles* Well, yes and no. Jason Avant may not be a household name, but trust me, he's got some serious Fantasy Football potential! *winks*\n",
      "\n",
      "So, is he startable? *exaggerated pause* Oh, absolutely! *crowd cheers* In his rookie season with the Eagles in 2006, Avant caught 37 passes for 486 yards and three touchdowns. That's right, folks, THREE TOUCHDOWNS! *excited squealing* And let me tell you, that Alamo Bowl appearance with the 2005 Michigan Wolverines? *in awe* That team was on fire! *cheers*\n",
      "\n",
      "But wait, there's more! Avant played in several playoff games, including Super Bowl XLVII with the Eagles. *drops mic* I mean, can you imagine starting him on your Fantasy Football team? *faints* The possibilities are endless!\n",
      "\n",
      "Of course, as with any player, there are some potential downsides. Avant's numbers took a slight dip in his later years, and he didn't exactly light up the scoreboard in his playoff appearances. *shrugs* But hey, that's why they play the games, right? *winks*\n",
      "\n",
      "So there you have it, folks! Jason Avant: the unsung hero of the NFL and your next Fantasy Football star! *confetti thrown* Don't forget to pick him up on waivers, or you'll be left in the dust! *runs away waving hands*\n"
     ]
    }
   ],
   "source": [
    "# create a time series chart of player stats in plotly\n",
    "import plotly.graph_objects as go\n",
    "df = stats[stats['player_id'] == rosters.loc[rosters['player_name'] == player_names[random_loc], 'player_id'].values[0]]\n",
    "fig = go.Figure()\n",
    "df['year_game'] = df['season'].astype('str') + '_' + df['week'].astype('str')\n",
    "fig.add_trace(go.Scatter(x=df['year_game'], y=df['receiving_yards'], mode='lines+markers', name='receiving yards'))\n",
    "fig.update_layout(title=f'{player_names[random_loc]} Receiving Yards by Game', xaxis_title='Game', yaxis_title='Yards')\n",
    "fig.show()\n",
    "print(response)"
   ]
  }
 ],
 "metadata": {
  "kernelspec": {
   "display_name": "nfl_llm",
   "language": "python",
   "name": "python3"
  },
  "language_info": {
   "codemirror_mode": {
    "name": "ipython",
    "version": 3
   },
   "file_extension": ".py",
   "mimetype": "text/x-python",
   "name": "python",
   "nbconvert_exporter": "python",
   "pygments_lexer": "ipython3",
   "version": "3.10.13"
  }
 },
 "nbformat": 4,
 "nbformat_minor": 2
}
